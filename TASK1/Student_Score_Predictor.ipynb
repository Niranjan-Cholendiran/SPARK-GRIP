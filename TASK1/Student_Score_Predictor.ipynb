{
  "nbformat": 4,
  "nbformat_minor": 0,
  "metadata": {
    "colab": {
      "name": "Student_Score_Predictor.ipynb",
      "provenance": [],
      "mount_file_id": "1o2hPmdbMj0ZlOnqrLW0rzolLPh2ascpo",
      "authorship_tag": "ABX9TyMWL0d3AA0FsB7WuBle5SJ+",
      "include_colab_link": true
    },
    "kernelspec": {
      "name": "python3",
      "display_name": "Python 3"
    }
  },
  "cells": [
    {
      "cell_type": "markdown",
      "metadata": {
        "id": "view-in-github",
        "colab_type": "text"
      },
      "source": [
        "<a href=\"https://colab.research.google.com/github/Niranjan-Cholendiran/SPARK-GRIP/blob/main/TASK1/Student_Score_Predictor.ipynb\" target=\"_parent\"><img src=\"https://colab.research.google.com/assets/colab-badge.svg\" alt=\"Open In Colab\"/></a>"
      ]
    },
    {
      "cell_type": "markdown",
      "metadata": {
        "id": "-BHYk-pySh-r"
      },
      "source": [
        "## Importing required Libraries"
      ]
    },
    {
      "cell_type": "code",
      "metadata": {
        "id": "a8nhjn6DSJy6"
      },
      "source": [
        "import numpy as np\r\n",
        "import pandas as pd\r\n",
        "import matplotlib.pyplot as plt"
      ],
      "execution_count": 1,
      "outputs": []
    },
    {
      "cell_type": "markdown",
      "metadata": {
        "id": "ZBvZzLWoSqyS"
      },
      "source": [
        "## Read data"
      ]
    },
    {
      "cell_type": "code",
      "metadata": {
        "colab": {
          "base_uri": "https://localhost:8080/",
          "height": 204
        },
        "id": "Nuq9CsexSqQ_",
        "outputId": "9d73c327-5f51-4832-f86e-33d5d208fe7e"
      },
      "source": [
        "path=\"/content/drive/MyDrive/Internship/Spark GRIP/Task-1/Student_Scores.csv\"\r\n",
        "df=pd.read_csv(path)\r\n",
        "df.head()"
      ],
      "execution_count": 2,
      "outputs": [
        {
          "output_type": "execute_result",
          "data": {
            "text/html": [
              "<div>\n",
              "<style scoped>\n",
              "    .dataframe tbody tr th:only-of-type {\n",
              "        vertical-align: middle;\n",
              "    }\n",
              "\n",
              "    .dataframe tbody tr th {\n",
              "        vertical-align: top;\n",
              "    }\n",
              "\n",
              "    .dataframe thead th {\n",
              "        text-align: right;\n",
              "    }\n",
              "</style>\n",
              "<table border=\"1\" class=\"dataframe\">\n",
              "  <thead>\n",
              "    <tr style=\"text-align: right;\">\n",
              "      <th></th>\n",
              "      <th>Hours</th>\n",
              "      <th>Scores</th>\n",
              "    </tr>\n",
              "  </thead>\n",
              "  <tbody>\n",
              "    <tr>\n",
              "      <th>0</th>\n",
              "      <td>2.5</td>\n",
              "      <td>21</td>\n",
              "    </tr>\n",
              "    <tr>\n",
              "      <th>1</th>\n",
              "      <td>5.1</td>\n",
              "      <td>47</td>\n",
              "    </tr>\n",
              "    <tr>\n",
              "      <th>2</th>\n",
              "      <td>3.2</td>\n",
              "      <td>27</td>\n",
              "    </tr>\n",
              "    <tr>\n",
              "      <th>3</th>\n",
              "      <td>8.5</td>\n",
              "      <td>75</td>\n",
              "    </tr>\n",
              "    <tr>\n",
              "      <th>4</th>\n",
              "      <td>3.5</td>\n",
              "      <td>30</td>\n",
              "    </tr>\n",
              "  </tbody>\n",
              "</table>\n",
              "</div>"
            ],
            "text/plain": [
              "   Hours  Scores\n",
              "0    2.5      21\n",
              "1    5.1      47\n",
              "2    3.2      27\n",
              "3    8.5      75\n",
              "4    3.5      30"
            ]
          },
          "metadata": {
            "tags": []
          },
          "execution_count": 2
        }
      ]
    },
    {
      "cell_type": "code",
      "metadata": {
        "colab": {
          "base_uri": "https://localhost:8080/"
        },
        "id": "2UBC5P9ITAcJ",
        "outputId": "dd5bce29-9570-49da-ebc9-0faed95d0b73"
      },
      "source": [
        "df.isnull().any()"
      ],
      "execution_count": 9,
      "outputs": [
        {
          "output_type": "execute_result",
          "data": {
            "text/plain": [
              "Hours     False\n",
              "Scores    False\n",
              "dtype: bool"
            ]
          },
          "metadata": {
            "tags": []
          },
          "execution_count": 9
        }
      ]
    },
    {
      "cell_type": "markdown",
      "metadata": {
        "id": "1ztNoumzTKX7"
      },
      "source": [
        "Since the data has no null values, we can proceed with building the prediction model"
      ]
    },
    {
      "cell_type": "markdown",
      "metadata": {
        "id": "xuGxUku_TW7z"
      },
      "source": [
        "## Data Visualizaton "
      ]
    },
    {
      "cell_type": "code",
      "metadata": {
        "colab": {
          "base_uri": "https://localhost:8080/",
          "height": 279
        },
        "id": "xVaENIA1TDU2",
        "outputId": "5e805393-898c-433e-fe15-a42c956556c2"
      },
      "source": [
        "plt.scatter(df[\"Hours\"],df[\"Scores\"])\r\n",
        "plt.xlabel(\"Hours\")\r\n",
        "plt.ylabel(\"Scores\")\r\n",
        "plt.show()"
      ],
      "execution_count": 12,
      "outputs": [
        {
          "output_type": "display_data",
          "data": {
            "image/png": "[encoded data removed]",
            "text/plain": [
              "<Figure size 432x288 with 1 Axes>"
            ]
          },
          "metadata": {
            "tags": [],
            "needs_background": "light"
          }
        }
      ]
    },
    {
      "cell_type": "markdown",
      "metadata": {
        "id": "Q5tJt9FyVnud"
      },
      "source": [
        "Observation from the plot: Data is almost correlated linearly"
      ]
    },
    {
      "cell_type": "markdown",
      "metadata": {
        "id": "Cng0TuuvVkRk"
      },
      "source": [
        "# Splitting data for training and testing"
      ]
    },
    {
      "cell_type": "code",
      "metadata": {
        "id": "-XHlHeWIa5eu"
      },
      "source": [
        "x = df.iloc[:, :-1].values  \r\n",
        "y = df.iloc[:, 1].values  "
      ],
      "execution_count": 21,
      "outputs": []
    },
    {
      "cell_type": "code",
      "metadata": {
        "colab": {
          "base_uri": "https://localhost:8080/"
        },
        "id": "epjHn9KUVO-Q",
        "outputId": "4ba28176-ecac-4e8c-8625-58a304921f39"
      },
      "source": [
        "from sklearn.model_selection import train_test_split  \r\n",
        "\r\n",
        "X_train, X_test, y_train, y_test = train_test_split(x,y, test_size=0.2, random_state=0) \r\n",
        "print(\"Training shape: \",X_train.shape)\r\n",
        "print(\"Testing shape: \",X_test.shape)"
      ],
      "execution_count": 73,
      "outputs": [
        {
          "output_type": "stream",
          "text": [
            "Training shape:  (20, 1)\n",
            "Testing shape:  (5, 1)\n"
          ],
          "name": "stdout"
        }
      ]
    },
    {
      "cell_type": "markdown",
      "metadata": {
        "id": "sprMYrTXXQy0"
      },
      "source": [
        "## Building prediction model"
      ]
    },
    {
      "cell_type": "code",
      "metadata": {
        "colab": {
          "base_uri": "https://localhost:8080/"
        },
        "id": "2OJ-9aNgXKLR",
        "outputId": "1b4c7308-80e1-4bd7-9d24-7f0aabc0b317"
      },
      "source": [
        "#Liner regression\r\n",
        "\r\n",
        "from sklearn.linear_model import LinearRegression  \r\n",
        "\r\n",
        "model = LinearRegression()  \r\n",
        "model.fit(X_train, y_train) "
      ],
      "execution_count": 74,
      "outputs": [
        {
          "output_type": "execute_result",
          "data": {
            "text/plain": [
              "LinearRegression(copy_X=True, fit_intercept=True, n_jobs=None, normalize=False)"
            ]
          },
          "metadata": {
            "tags": []
          },
          "execution_count": 74
        }
      ]
    },
    {
      "cell_type": "markdown",
      "metadata": {
        "id": "YUeGbBoRbzXi"
      },
      "source": [
        "Plotting the best fit line"
      ]
    },
    {
      "cell_type": "code",
      "metadata": {
        "colab": {
          "base_uri": "https://localhost:8080/",
          "height": 265
        },
        "id": "RiXqHvitbkP8",
        "outputId": "d44a5d41-5bfa-47b2-c9b9-37493266042e"
      },
      "source": [
        "line = model.coef_*X+model.intercept_\r\n",
        "\r\n",
        "plt.scatter(X, y)\r\n",
        "plt.plot(X, line);\r\n",
        "plt.show()"
      ],
      "execution_count": 75,
      "outputs": [
        {
          "output_type": "display_data",
          "data": {
            "image/png": "[encoded data removed]",
            "text/plain": [
              "<Figure size 432x288 with 1 Axes>"
            ]
          },
          "metadata": {
            "tags": [],
            "needs_background": "light"
          }
        }
      ]
    },
    {
      "cell_type": "markdown",
      "metadata": {
        "id": "Ya1GHM0HcVjJ"
      },
      "source": [
        "Predicting"
      ]
    },
    {
      "cell_type": "code",
      "metadata": {
        "colab": {
          "base_uri": "https://localhost:8080/",
          "height": 204
        },
        "id": "N9rqVx4GammD",
        "outputId": "ee9fdb37-6b42-47a1-94b4-97528b1b65e2"
      },
      "source": [
        "y_pred = model.predict(X_test)\r\n",
        "df_pred = pd.DataFrame({'Actual': y_test, 'Predicted': y_pred})  \r\n",
        "df_pred"
      ],
      "execution_count": 76,
      "outputs": [
        {
          "output_type": "execute_result",
          "data": {
            "text/html": [
              "<div>\n",
              "<style scoped>\n",
              "    .dataframe tbody tr th:only-of-type {\n",
              "        vertical-align: middle;\n",
              "    }\n",
              "\n",
              "    .dataframe tbody tr th {\n",
              "        vertical-align: top;\n",
              "    }\n",
              "\n",
              "    .dataframe thead th {\n",
              "        text-align: right;\n",
              "    }\n",
              "</style>\n",
              "<table border=\"1\" class=\"dataframe\">\n",
              "  <thead>\n",
              "    <tr style=\"text-align: right;\">\n",
              "      <th></th>\n",
              "      <th>Actual</th>\n",
              "      <th>Predicted</th>\n",
              "    </tr>\n",
              "  </thead>\n",
              "  <tbody>\n",
              "    <tr>\n",
              "      <th>0</th>\n",
              "      <td>20</td>\n",
              "      <td>16.884145</td>\n",
              "    </tr>\n",
              "    <tr>\n",
              "      <th>1</th>\n",
              "      <td>27</td>\n",
              "      <td>33.732261</td>\n",
              "    </tr>\n",
              "    <tr>\n",
              "      <th>2</th>\n",
              "      <td>69</td>\n",
              "      <td>75.357018</td>\n",
              "    </tr>\n",
              "    <tr>\n",
              "      <th>3</th>\n",
              "      <td>30</td>\n",
              "      <td>26.794801</td>\n",
              "    </tr>\n",
              "    <tr>\n",
              "      <th>4</th>\n",
              "      <td>62</td>\n",
              "      <td>60.491033</td>\n",
              "    </tr>\n",
              "  </tbody>\n",
              "</table>\n",
              "</div>"
            ],
            "text/plain": [
              "   Actual  Predicted\n",
              "0      20  16.884145\n",
              "1      27  33.732261\n",
              "2      69  75.357018\n",
              "3      30  26.794801\n",
              "4      62  60.491033"
            ]
          },
          "metadata": {
            "tags": []
          },
          "execution_count": 76
        }
      ]
    },
    {
      "cell_type": "markdown",
      "metadata": {
        "id": "FwJkXEfhcnCd"
      },
      "source": [
        "Calculating the error value"
      ]
    },
    {
      "cell_type": "code",
      "metadata": {
        "colab": {
          "base_uri": "https://localhost:8080/"
        },
        "id": "BTvI2__qcbBk",
        "outputId": "2ae82ca6-f377-473d-99b0-5ca9bea6efb5"
      },
      "source": [
        "from sklearn import metrics  \r\n",
        "\r\n",
        "print('Mean Absolute Error:',metrics.mean_absolute_error(y_test, y_pred)) "
      ],
      "execution_count": 77,
      "outputs": [
        {
          "output_type": "stream",
          "text": [
            "Mean Absolute Error: 4.183859899002982\n"
          ],
          "name": "stdout"
        }
      ]
    },
    {
      "cell_type": "markdown",
      "metadata": {
        "id": "c6H3CJvAdkgU"
      },
      "source": [
        "# Prediction for own data"
      ]
    },
    {
      "cell_type": "code",
      "metadata": {
        "colab": {
          "base_uri": "https://localhost:8080/"
        },
        "id": "fE93uinOcr7Y",
        "outputId": "24639b70-e8e4-4420-9d11-3602c2eb9dea"
      },
      "source": [
        "Hours = np.array([9.25]).reshape(1,1)\r\n",
        "prediction= model.predict(Hours)\r\n",
        "print(\"No of Hours= \",Hours[0][0])\r\n",
        "print(\"Predicted Score= \",prediction[0])"
      ],
      "execution_count": 86,
      "outputs": [
        {
          "output_type": "stream",
          "text": [
            "No of Hours=  9.25\n",
            "Predicted Score=  93.69173248737539\n"
          ],
          "name": "stdout"
        }
      ]
    },
    {
      "cell_type": "code",
      "metadata": {
        "id": "3m2T53pMd6rQ"
      },
      "source": [
        ""
      ],
      "execution_count": null,
      "outputs": []
    }
  ]
}